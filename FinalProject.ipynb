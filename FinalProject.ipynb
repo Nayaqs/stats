{
 "cells": [
  {
   "cell_type": "markdown",
   "metadata": {},
   "source": [
    "Let's begin by defining all the dependencies, all the cosmethics and the given physical values"
   ]
  },
  {
   "cell_type": "code",
   "execution_count": 367,
   "metadata": {},
   "outputs": [],
   "source": [
    "import numpy as np\n",
    "import matplotlib.pyplot as plt\n",
    "import scipy.stats as stats\n",
    "import math\n",
    "## - - - - - - - - - - - - - - - - - - - - - - - - - - -\n",
    "##      plotting properties\n",
    "## - - - - - - - - - - - - - - - - - - - - - - - - - - -\n",
    "\n",
    "plt.rcParams.update({\n",
    "\t'text.usetex': True,\n",
    "\t'font.family':'serif',\n",
    "\t'mathtext.fontset' : 'cm',\n",
    "\t'mathtext.rm': 'serif',\n",
    "\t'font.weight': 'normal',\n",
    "\t'axes.labelweight': 'normal',\n",
    "\t'axes.linewidth': 1.5,\n",
    "\t'xtick.major.width': 1.5,\n",
    "\t'xtick.major.size': 10.0,\n",
    "\t'xtick.minor.size': 5.0,\n",
    "\t'ytick.major.width': 1.5,\n",
    "\t'ytick.major.size': 10.0,\n",
    "\t'ytick.minor.size': 5.0,\n",
    "\t'font.size': 30})\n",
    "plt.rcParams.update({'font.size': 20})\n",
    "\n",
    "m=40*1.66*1e-27\n",
    "kb=1.38*1e-23\n",
    "T=3\n",
    "mu = 30*kb*T\n",
    "A=3.5e+31\n",
    "beta = 1/(kb*T)\n",
    "n=1"
   ]
  },
  {
   "cell_type": "markdown",
   "metadata": {},
   "source": [
    "Let's plot the function to see the result"
   ]
  },
  {
   "cell_type": "code",
   "execution_count": 74,
   "metadata": {},
   "outputs": [
    {
     "data": {
      "text/plain": [
       "<matplotlib.legend.Legend at 0x19de2682460>"
      ]
     },
     "execution_count": 74,
     "metadata": {},
     "output_type": "execute_result"
    },
    {
     "data": {
      "image/png": "[encoded data removed]",
      "text/plain": [
       "<Figure size 432x288 with 1 Axes>"
      ]
     },
     "metadata": {
      "needs_background": "light"
     },
     "output_type": "display_data"
    }
   ],
   "source": [
    "def f(epsilon, Temp):\n",
    "    beta    = 1/(kb*Temp)\n",
    "    numer   = A*np.sqrt(epsilon)\n",
    "    denom   = np.exp(beta*(epsilon-mu)) + 1.0\n",
    "    return numer/denom \n",
    "\n",
    "xfunc = np.linspace(0,2*mu,1000)\n",
    "yfunc = f(xfunc,3)\n",
    "plt.plot(xfunc,yfunc, label = \"T=3K\")\n",
    "plt.plot([mu, mu],[0,1.2e21], color = \"orange\", label = \"$x = \\mu$\")\n",
    "plt.plot([2*mu, 2*mu],[0,1.2e21], color = \"red\", label = \"$x=2\\mu$\")\n",
    "plt.xlabel(\"Energy\")\n",
    "plt.ylabel(\"$f(\\epsilon,\\,T)$\")\n",
    "plt.title(\"Energy distribution\")\n",
    "plt.legend()"
   ]
  },
  {
   "cell_type": "markdown",
   "metadata": {},
   "source": [
    "# Exercice 1"
   ]
  },
  {
   "cell_type": "markdown",
   "metadata": {},
   "source": [
    "a) We have to show that the given function : \n",
    "$$\n",
    "f(\\epsilon) = A \\dfrac{\\sqrt{\\epsilon}}{\\exp(\\beta(\\epsilon-\\mu))+1}\n",
    "$$\n",
    "is indeed a pdf"
   ]
  },
  {
   "cell_type": "code",
   "execution_count": 383,
   "metadata": {},
   "outputs": [
    {
     "name": "stdout",
     "output_type": "stream",
     "text": [
      "integral of f =  1.0226866172662104\n",
      "var=  3.344083971384022e-22\n"
     ]
    }
   ],
   "source": [
    "xMin=0\n",
    "xMax=2*mu\n",
    "\n",
    "#If you want to compute the integral of a function, just implement it\n",
    "#Useful for the integral = 1 or the standard deviation.\n",
    "def integral(n):\n",
    "    nPts=n+1\n",
    "    nInt=n\n",
    "    x=np.linspace(xMin,xMax,nPts)\n",
    "    y=np.zeros(len(x))\n",
    "    for i in range(len(x)):\n",
    "        denom = np.exp(beta*(x[i]-mu))+1\n",
    "        y[i]=A*np.sqrt(x[i])/denom\n",
    "    integrale=0\n",
    "    for i in range(n):\n",
    "        integrale += (y[i]+y[i+1])*(x[i+1]-x[i])/2\n",
    "    return integrale\n",
    "\n",
    "def integralVar(n):\n",
    "    nPts=n+1\n",
    "    nInt=n\n",
    "    x=np.linspace(xMin,xMax,nPts)\n",
    "    y=np.zeros(len(x))\n",
    "    for i in range(len(x)):\n",
    "        denom = np.exp(beta*(x[i]-mu))+1\n",
    "        y[i]=A*np.power((x[i]-meanTH),2)*np.sqrt(x[i])/denom\n",
    "    integrale=0\n",
    "    for i in range(n):\n",
    "        integrale += (y[i]+y[i+1])*(x[i+1]-x[i])/2\n",
    "    return integrale\n",
    "\n",
    "varTH=integralVar(1000)\n",
    "\n",
    "print(\"integral of f = \", integral(1000))\n",
    "print(\"var= \", np.sqrt(integralVar(1000)))"
   ]
  },
  {
   "cell_type": "code",
   "execution_count": 386,
   "metadata": {},
   "outputs": [
    {
     "data": {
      "text/plain": [
       "Text(0.5, 1.0, 'Numerical integral of $f$')"
      ]
     },
     "execution_count": 386,
     "metadata": {},
     "output_type": "execute_result"
    },
    {
     "data": {
      "image/png": "[encoded data removed]",
      "text/plain": [
       "<Figure size 432x288 with 1 Axes>"
      ]
     },
     "metadata": {
      "needs_background": "light"
     },
     "output_type": "display_data"
    }
   ],
   "source": [
    "listint = np.zeros(50)\n",
    "xplot = list(range(len(listint)))\n",
    "for i in range(len(listint)):\n",
    "    listint[i] = integral(i)\n",
    "\n",
    "integral(5000)\n",
    "\n",
    "plt.plot(xplot,listint, color = \"blue\")\n",
    "plt.xlabel(\"Numbers of points\")\n",
    "plt.ylabel(\"Sum of the areas\")\n",
    "plt.title(\"Numerical integral of $f$\")"
   ]
  },
  {
   "cell_type": "markdown",
   "metadata": {},
   "source": [
    "b) Build a MC process to generate this probability density function for a large number of data\n",
    "points, $N \\gg 1$. Fill your results in a histogram, plot them and verify their correctness by\n",
    "comparing them with the curve of the analytical form in Eq"
   ]
  },
  {
   "cell_type": "code",
   "execution_count": 99,
   "metadata": {},
   "outputs": [],
   "source": [
    "def Egenerator(nEvents, Temp):\n",
    "    listE =[]\n",
    "    while len(listE)<nEvents :\n",
    "        interval= (0, 2*mu)\n",
    "        fmax    = np.max(f(np.linspace(*interval,1000),3))*1.05\n",
    "        gen     = np.random.default_rng()\n",
    "        x       = gen.uniform(*interval)\n",
    "        y       = gen.uniform(0, fmax)\n",
    "        if y < f(x, Temp):\n",
    "            listE.append(x)\n",
    "    return listE        "
   ]
  },
  {
   "cell_type": "code",
   "execution_count": 313,
   "metadata": {},
   "outputs": [
    {
     "data": {
      "text/plain": [
       "Text(0.5, 1.0, 'MC Generated Samples')"
      ]
     },
     "execution_count": 313,
     "metadata": {},
     "output_type": "execute_result"
    },
    {
     "data": {
      "image/png": "[encoded data removed]",
      "text/plain": [
       "<Figure size 432x288 with 1 Axes>"
      ]
     },
     "metadata": {
      "needs_background": "light"
     },
     "output_type": "display_data"
    }
   ],
   "source": [
    "N       = 1000000\n",
    "nBins   = 30 \n",
    "fmax    = np.max(f(np.linspace(0,2*mu,1000),3))*1.02\n",
    "data    = Egenerator(N, 3)\n",
    "\n",
    "plt.plot(xfunc,yfunc, color = \"r\", label = \"Energy distribution\")\n",
    "content,bin_edges, _ = plt.hist(data, density=True, bins =nBins, alpha = 0.6, label = \"MC samples\")\n",
    "plt.plot([0,2*mu],[fmax,fmax], label=\"Uniform envelope\", lw=4)\n",
    "plt.xlabel(\"Energy\")\n",
    "plt.ylabel(\"$f(\\epsilon,\\,T)$\")\n",
    "plt.legend()\n",
    "plt.title(\"MC Generated Samples\")"
   ]
  },
  {
   "cell_type": "markdown",
   "metadata": {},
   "source": [
    "c) Compute the sample mean $\\langle\\epsilon\\rangle$ and compare with the expectation value:\n",
    "$$\n",
    "E = \\dfrac{3}{5}n\\mu\n",
    "$$"
   ]
  },
  {
   "cell_type": "code",
   "execution_count": 106,
   "metadata": {},
   "outputs": [
    {
     "name": "stdout",
     "output_type": "stream",
     "text": [
      "The mean is :  7.448794589070482e-22  The theoretial mean is :  7.451999999999999e-22  The mean computed with numpy is :  7.5151547821088375e-22\n"
     ]
    },
    {
     "data": {
      "image/png": "[encoded data removed]",
      "text/plain": [
       "<Figure size 432x288 with 1 Axes>"
      ]
     },
     "metadata": {
      "needs_background": "light"
     },
     "output_type": "display_data"
    }
   ],
   "source": [
    "#Define the Width and the bin centers\n",
    "#data = Egenerator(N, 3)\n",
    "content,bin_edges, _ = plt.hist(data, density=True, bins =nBins, alpha = 0.6, label = \"MC generated samples\")\n",
    "binWidth = (bin_edges[1] - bin_edges[0])\n",
    "xCoords = bin_edges[:-1] + binWidth/2\n",
    "#plt.scatter(list(xCoords), np.zeros(len(xCoords)), color = \"red\", label = \"Bin center\")\n",
    "\n",
    "#compute the mean explicitely\n",
    "mean = np.sum(content*xCoords) *binWidth\n",
    "meanTH = (3/5)*n*mu\n",
    "\n",
    "plt.plot(xfunc,yfunc, color = \"red\")\n",
    "plt.plot([meanTH, meanTH], [0, fmax], color = \"magenta\",alpha = 0.5, lw = 4, label = \"Expect.Value\")\n",
    "plt.plot([mean, mean], [0, fmax], '--', color = \"green\", lw = 1, label = \"Computed mean\")\n",
    "plt.plot([m, m], [0, fmax], '--', color = \"orange\", lw = 1, label = \"Numpy mean\")\n",
    "\n",
    "plt.xlabel(\"Energy\")\n",
    "plt.ylabel(\"$f(\\epsilon,\\,T)$\")\n",
    "plt.legend()\n",
    "plt.title(\"Mean and Expect.Value\")\n",
    "\n",
    "m = np.mean(Egenerator(N,3))\n",
    "print(\"The mean is : \" ,mean, \" The theoretial mean is : \" , meanTH, \" The mean computed with numpy is : \", m)\n",
    "\n"
   ]
  },
  {
   "cell_type": "markdown",
   "metadata": {},
   "source": [
    "We see that the analysis is coherent and we could have used the function np.mean before ... --'"
   ]
  },
  {
   "cell_type": "markdown",
   "metadata": {},
   "source": [
    "d) alculate E/kB T . Compare it with what you learnt from exercise sheet 5 and comment.\n",
    "\n",
    "We have : \n",
    "$$\n",
    "\\mathbb{E} = \\dfrac{3}{5}n\\mu = \\dfrac{3}{5}n \\cdot 30\\,k_BT = 18 k_BT\n",
    "$$\n",
    ", Which is coherent with the result"
   ]
  },
  {
   "cell_type": "code",
   "execution_count": 107,
   "metadata": {},
   "outputs": [
    {
     "name": "stdout",
     "output_type": "stream",
     "text": [
      "17.992257461522907\n",
      "18.15254778287159\n"
     ]
    }
   ],
   "source": [
    "print(mean/(kb*T))\n",
    "print(m/(kb*T))"
   ]
  },
  {
   "cell_type": "markdown",
   "metadata": {},
   "source": [
    "e) Compute the variance, skewness and kurtosis of the distribution and comment."
   ]
  },
  {
   "cell_type": "code",
   "execution_count": 317,
   "metadata": {},
   "outputs": [
    {
     "name": "stdout",
     "output_type": "stream",
     "text": [
      "variance =  1.0946931529933901e-43  skewness =  -0.28322047392096794  kurtosis =  -0.915606454313799 stand dev =  3.3086147448643673e-22\n"
     ]
    }
   ],
   "source": [
    "v       = np.var(data)\n",
    "s       = stats.skew(data)\n",
    "k       = stats.kurtosis(data)\n",
    "stdev   = np.sqrt(v)\n",
    "stdev_APP = stdev\n",
    "\n",
    "print(\"variance = \", v , \" skewness = \", s , \" kurtosis = \", k, \"stand dev = \", stdev)"
   ]
  },
  {
   "cell_type": "markdown",
   "metadata": {},
   "source": [
    "# Exercice 2"
   ]
  },
  {
   "cell_type": "markdown",
   "metadata": {},
   "source": [
    "a) Take Nexp = 1 and show the law of large numbers based on the data points you generated.\n",
    "\n",
    "Now we take the data points we managed to get. They are all distributed according to $f$, with a mean of $18\\cdot k_B T$ and a variance $var \\approx 1.07 \\cdot 10^{-43}$\n",
    "\n",
    "If we want to show the laws of large numbers, we can show that if we progressively compute the mean for a given number of samples ($N_{exp}=1$), then the average will converge to a number, which should be the mean."
   ]
  },
  {
   "cell_type": "code",
   "execution_count": 319,
   "metadata": {},
   "outputs": [
    {
     "ename": "KeyboardInterrupt",
     "evalue": "",
     "output_type": "error",
     "traceback": [
      "\u001b[1;31m---------------------------------------------------------------------------\u001b[0m",
      "\u001b[1;31mKeyboardInterrupt\u001b[0m                         Traceback (most recent call last)",
      "\u001b[1;32m<ipython-input-319-45398ee67c4f>\u001b[0m in \u001b[0;36m<module>\u001b[1;34m\u001b[0m\n\u001b[0;32m      1\u001b[0m \u001b[0mN\u001b[0m\u001b[1;33m=\u001b[0m\u001b[1;36m100000\u001b[0m\u001b[1;33m\u001b[0m\u001b[1;33m\u001b[0m\u001b[0m\n\u001b[1;32m----> 2\u001b[1;33m \u001b[0mdata\u001b[0m \u001b[1;33m=\u001b[0m \u001b[0mEgenerator\u001b[0m\u001b[1;33m(\u001b[0m\u001b[0mN\u001b[0m\u001b[1;33m,\u001b[0m\u001b[1;36m3\u001b[0m\u001b[1;33m)\u001b[0m\u001b[1;33m\u001b[0m\u001b[1;33m\u001b[0m\u001b[0m\n\u001b[0m\u001b[0;32m      3\u001b[0m \u001b[0ml\u001b[0m \u001b[1;33m=\u001b[0m \u001b[0mlen\u001b[0m\u001b[1;33m(\u001b[0m\u001b[0mdata\u001b[0m\u001b[1;33m)\u001b[0m\u001b[1;33m\u001b[0m\u001b[1;33m\u001b[0m\u001b[0m\n\u001b[0;32m      4\u001b[0m \u001b[1;33m\u001b[0m\u001b[0m\n\u001b[0;32m      5\u001b[0m \u001b[0mlistMean\u001b[0m \u001b[1;33m=\u001b[0m \u001b[0mnp\u001b[0m\u001b[1;33m.\u001b[0m\u001b[0mzeros\u001b[0m\u001b[1;33m(\u001b[0m\u001b[0mint\u001b[0m\u001b[1;33m(\u001b[0m\u001b[0mN\u001b[0m\u001b[1;33m/\u001b[0m\u001b[1;36m10\u001b[0m\u001b[1;33m)\u001b[0m\u001b[1;33m)\u001b[0m\u001b[1;33m\u001b[0m\u001b[1;33m\u001b[0m\u001b[0m\n",
      "\u001b[1;32m<ipython-input-99-02c20b8feeab>\u001b[0m in \u001b[0;36mEgenerator\u001b[1;34m(nEvents, Temp)\u001b[0m\n\u001b[0;32m      3\u001b[0m     \u001b[1;32mwhile\u001b[0m \u001b[0mlen\u001b[0m\u001b[1;33m(\u001b[0m\u001b[0mlistE\u001b[0m\u001b[1;33m)\u001b[0m\u001b[1;33m<\u001b[0m\u001b[0mnEvents\u001b[0m \u001b[1;33m:\u001b[0m\u001b[1;33m\u001b[0m\u001b[1;33m\u001b[0m\u001b[0m\n\u001b[0;32m      4\u001b[0m         \u001b[0minterval\u001b[0m\u001b[1;33m=\u001b[0m \u001b[1;33m(\u001b[0m\u001b[1;36m0\u001b[0m\u001b[1;33m,\u001b[0m \u001b[1;36m2\u001b[0m\u001b[1;33m*\u001b[0m\u001b[0mmu\u001b[0m\u001b[1;33m)\u001b[0m\u001b[1;33m\u001b[0m\u001b[1;33m\u001b[0m\u001b[0m\n\u001b[1;32m----> 5\u001b[1;33m         \u001b[0mfmax\u001b[0m    \u001b[1;33m=\u001b[0m \u001b[0mnp\u001b[0m\u001b[1;33m.\u001b[0m\u001b[0mmax\u001b[0m\u001b[1;33m(\u001b[0m\u001b[0mf\u001b[0m\u001b[1;33m(\u001b[0m\u001b[0mnp\u001b[0m\u001b[1;33m.\u001b[0m\u001b[0mlinspace\u001b[0m\u001b[1;33m(\u001b[0m\u001b[1;33m*\u001b[0m\u001b[0minterval\u001b[0m\u001b[1;33m,\u001b[0m\u001b[1;36m1000\u001b[0m\u001b[1;33m)\u001b[0m\u001b[1;33m,\u001b[0m\u001b[1;36m3\u001b[0m\u001b[1;33m)\u001b[0m\u001b[1;33m)\u001b[0m\u001b[1;33m*\u001b[0m\u001b[1;36m1.05\u001b[0m\u001b[1;33m\u001b[0m\u001b[1;33m\u001b[0m\u001b[0m\n\u001b[0m\u001b[0;32m      6\u001b[0m         \u001b[0mgen\u001b[0m     \u001b[1;33m=\u001b[0m \u001b[0mnp\u001b[0m\u001b[1;33m.\u001b[0m\u001b[0mrandom\u001b[0m\u001b[1;33m.\u001b[0m\u001b[0mdefault_rng\u001b[0m\u001b[1;33m(\u001b[0m\u001b[1;33m)\u001b[0m\u001b[1;33m\u001b[0m\u001b[1;33m\u001b[0m\u001b[0m\n\u001b[0;32m      7\u001b[0m         \u001b[0mx\u001b[0m       \u001b[1;33m=\u001b[0m \u001b[0mgen\u001b[0m\u001b[1;33m.\u001b[0m\u001b[0muniform\u001b[0m\u001b[1;33m(\u001b[0m\u001b[1;33m*\u001b[0m\u001b[0minterval\u001b[0m\u001b[1;33m)\u001b[0m\u001b[1;33m\u001b[0m\u001b[1;33m\u001b[0m\u001b[0m\n",
      "\u001b[1;32m<ipython-input-74-fcb963220df6>\u001b[0m in \u001b[0;36mf\u001b[1;34m(epsilon, Temp)\u001b[0m\n\u001b[0;32m      2\u001b[0m     \u001b[0mbeta\u001b[0m    \u001b[1;33m=\u001b[0m \u001b[1;36m1\u001b[0m\u001b[1;33m/\u001b[0m\u001b[1;33m(\u001b[0m\u001b[0mkb\u001b[0m\u001b[1;33m*\u001b[0m\u001b[0mTemp\u001b[0m\u001b[1;33m)\u001b[0m\u001b[1;33m\u001b[0m\u001b[1;33m\u001b[0m\u001b[0m\n\u001b[0;32m      3\u001b[0m     \u001b[0mnumer\u001b[0m   \u001b[1;33m=\u001b[0m \u001b[0mA\u001b[0m\u001b[1;33m*\u001b[0m\u001b[0mnp\u001b[0m\u001b[1;33m.\u001b[0m\u001b[0msqrt\u001b[0m\u001b[1;33m(\u001b[0m\u001b[0mepsilon\u001b[0m\u001b[1;33m)\u001b[0m\u001b[1;33m\u001b[0m\u001b[1;33m\u001b[0m\u001b[0m\n\u001b[1;32m----> 4\u001b[1;33m     \u001b[0mdenom\u001b[0m   \u001b[1;33m=\u001b[0m \u001b[0mnp\u001b[0m\u001b[1;33m.\u001b[0m\u001b[0mexp\u001b[0m\u001b[1;33m(\u001b[0m\u001b[0mbeta\u001b[0m\u001b[1;33m*\u001b[0m\u001b[1;33m(\u001b[0m\u001b[0mepsilon\u001b[0m\u001b[1;33m-\u001b[0m\u001b[0mmu\u001b[0m\u001b[1;33m)\u001b[0m\u001b[1;33m)\u001b[0m \u001b[1;33m+\u001b[0m \u001b[1;36m1.0\u001b[0m\u001b[1;33m\u001b[0m\u001b[1;33m\u001b[0m\u001b[0m\n\u001b[0m\u001b[0;32m      5\u001b[0m     \u001b[1;32mreturn\u001b[0m \u001b[0mnumer\u001b[0m\u001b[1;33m/\u001b[0m\u001b[0mdenom\u001b[0m\u001b[1;33m\u001b[0m\u001b[1;33m\u001b[0m\u001b[0m\n\u001b[0;32m      6\u001b[0m \u001b[1;33m\u001b[0m\u001b[0m\n",
      "\u001b[1;31mKeyboardInterrupt\u001b[0m: "
     ]
    }
   ],
   "source": [
    "N=100000\n",
    "data = Egenerator(N,3)\n",
    "l = len(data)\n",
    "\n",
    "listMean = np.zeros(int(N/10))\n",
    "for i in range(int(l/10)):\n",
    "    moy = np.mean(data[:i+1])\n",
    "    listMean[i] = moy\n",
    "xMean = np.linspace(0,N,int(l/10))\n",
    "\n",
    "plt.plot([0,N],[18*kb*T,18*kb*T], color = \"red\", label = \"$y = 18 kb T$\")\n",
    "plt.plot(xMean, listMean, label = \"$<\\epsilon> $ for N events \")\n",
    "\n",
    "plt.xlabel(\"Number of sample in the mean\")\n",
    "plt.ylabel(\"Corresponding mean\")\n",
    "plt.legend()\n",
    "plt.grid()\n",
    "plt.semilogx()\n",
    "plt.title(\"Convergence of mean\")"
   ]
  },
  {
   "cell_type": "markdown",
   "metadata": {},
   "source": [
    "If we take the ratio, it converges asymptotically to 1"
   ]
  },
  {
   "cell_type": "code",
   "execution_count": 249,
   "metadata": {},
   "outputs": [
    {
     "data": {
      "text/plain": [
       "<matplotlib.legend.Legend at 0x19e6c9a0e50>"
      ]
     },
     "execution_count": 249,
     "metadata": {},
     "output_type": "execute_result"
    },
    {
     "data": {
      "image/png": "[encoded data removed]",
      "text/plain": [
       "<Figure size 432x288 with 1 Axes>"
      ]
     },
     "metadata": {
      "needs_background": "light"
     },
     "output_type": "display_data"
    }
   ],
   "source": [
    "ratio = [listMean/(kb*T) for listMean in listMean]\n",
    "plt.plot(xMean, ratio, color = \"green\", label = \"$<\\epsilon>/18 kb T$\")\n",
    "plt.plot([0,N],[18,18], color = \"red\", label = \"$y = 1$\")\n",
    "plt.semilogx()\n",
    "plt.grid()\n",
    "plt.title(\"Convergence of the ratio $<\\epsilon>/k_BT$\")\n",
    "plt.legend()\n"
   ]
  },
  {
   "cell_type": "markdown",
   "metadata": {},
   "source": [
    "b) Take Nexp >> 1 and show the validity of the central limit theorem for the mean :\n",
    "\n",
    "We will take for example 2000 experiment and every time, we will compute the mean and put it in a list\n",
    "\n",
    "In the end, we put it in a histogram and see if it is a Gaussian."
   ]
  },
  {
   "cell_type": "code",
   "execution_count": null,
   "metadata": {},
   "outputs": [],
   "source": [
    "test = Egenerator(1000000,3)\n",
    "stdev_APP = np.sqrt(np.var(test))"
   ]
  },
  {
   "cell_type": "code",
   "execution_count": 250,
   "metadata": {},
   "outputs": [],
   "source": [
    "def gauss(x, gmean, gsigma):\n",
    "    pref = 1/(np.sqrt(2*np.pi)*gsigma)\n",
    "    return pref*np.exp(-(x-gmean)*(x-gmean)/(2*gsigma*gsigma))"
   ]
  },
  {
   "cell_type": "code",
   "execution_count": 390,
   "metadata": {},
   "outputs": [],
   "source": [
    "#Code takes a bit of time to run\n",
    "N=100\n",
    "Nexp = 1000\n",
    "\n",
    "k=1\n",
    "listMean = []\n",
    "listVar = []\n",
    "while k<=Nexp :\n",
    "    dat     = Egenerator(N,3)\n",
    "    mean2   = np.mean(dat)\n",
    "    var2    = np.var(dat)\n",
    "    listMean.append(mean2)\n",
    "    listVar.append(var2)\n",
    "    k = k+1"
   ]
  },
  {
   "cell_type": "code",
   "execution_count": 391,
   "metadata": {},
   "outputs": [
    {
     "data": {
      "text/plain": [
       "Text(0.5, 0, '$<\\\\epsilon>$')"
      ]
     },
     "execution_count": 391,
     "metadata": {},
     "output_type": "execute_result"
    },
    {
     "data": {
      "image/png": "[encoded data removed]",
      "text/plain": [
       "<Figure size 432x288 with 1 Axes>"
      ]
     },
     "metadata": {
      "needs_background": "light"
     },
     "output_type": "display_data"
    }
   ],
   "source": [
    "sigmaCLT = np.sqrt(varTH)/np.sqrt(N)\n",
    "meanCLT = meanTH\n",
    "xplot = np.linspace(meanTH-6*sigma, meanTH+6*sigma, 1000)\n",
    "yplot = gauss(xplot, meanCLT, sigmaCLT)\n",
    "\n",
    "plt.hist(listMean, density=True, bins = 30)\n",
    "plt.plot(xplot,yplot, color =\"red\")\n",
    "plt.title(\"Histogram of $<\\epsilon>$, $N_{exp}$=1000\" )\n",
    "plt.xlabel(\"$<\\epsilon>$\")"
   ]
  },
  {
   "cell_type": "markdown",
   "metadata": {},
   "source": [
    "c) Compute the variance of 〈e〉 and compare it with the value you expect."
   ]
  },
  {
   "cell_type": "code",
   "execution_count": 336,
   "metadata": {},
   "outputs": [
    {
     "data": {
      "text/plain": [
       "0.9836105945160495"
      ]
     },
     "execution_count": 336,
     "metadata": {},
     "output_type": "execute_result"
    }
   ],
   "source": [
    "np.var(listMean)/(sigmaCLT**2)"
   ]
  },
  {
   "cell_type": "markdown",
   "metadata": {},
   "source": [
    "This is almost 1, that means that they are roughly the same"
   ]
  },
  {
   "cell_type": "markdown",
   "metadata": {},
   "source": [
    "# Exercice 3"
   ]
  },
  {
   "cell_type": "markdown",
   "metadata": {},
   "source": [
    "a) What is the expected p.d.f. for the number of entries per bin?\n",
    "\n",
    "the number of entries per bin is large => Gaussian with mean $f$. Let's compute the chi2 for one experiment ang generalise later."
   ]
  },
  {
   "cell_type": "code",
   "execution_count": 338,
   "metadata": {},
   "outputs": [
    {
     "data": {
      "text/plain": [
       "3.8922385555607925e+39"
      ]
     },
     "execution_count": 338,
     "metadata": {},
     "output_type": "execute_result"
    },
    {
     "data": {
      "image/png": "[encoded data removed]",
      "text/plain": [
       "<Figure size 432x288 with 1 Axes>"
      ]
     },
     "metadata": {
      "needs_background": "light"
     },
     "output_type": "display_data"
    }
   ],
   "source": [
    "Nexp=1\n",
    "N=1000\n",
    "data = Egenerator(N,T)\n",
    "nBins = 20\n",
    "\n",
    "content,edges = np.histogram(data, bins = nBins, density=True)\n",
    "width = edges[1]-edges[0]\n",
    "xExp = edges[:-1] + width/2\n",
    "\n",
    "    #Uncomment to see what happend\n",
    "plt.hist(data, bins = nBins, density=True, alpha = 0.5)\n",
    "plt.plot(xfunc,yfunc, color = \"red\")\n",
    "plt.scatter(xExp, content, color = \"red\")\n",
    "\n",
    "\n",
    "#The observed value is content[i] and the coordinate xExp[i]\n",
    "#The expected value is f(epsilon, T) at xExp[i]\n",
    "#Compute the difference\n",
    "\n",
    "chi2 = 0\n",
    "for j in range(len(content)):\n",
    "    fj = N*f(xExp[j],T)*width\n",
    "    dif = np.power((content[j]-fj)/fj,2)\n",
    "    chi2 = chi2 + dif\n",
    "\n",
    "chi2"
   ]
  },
  {
   "cell_type": "markdown",
   "metadata": {},
   "source": [
    "Define a function for it"
   ]
  },
  {
   "cell_type": "code",
   "execution_count": 339,
   "metadata": {},
   "outputs": [],
   "source": [
    "def doChiBin(binContent, binEdges):\n",
    "    w = binEdges[1]-binEdges[0]\n",
    "    xc = binEdges[:-1] + w/2\n",
    "    X = 0\n",
    "    for j in range(len(binContent)):\n",
    "        fj = N*f(xc[j],T)*w\n",
    "        d = np.power((binContent[j]-fj)/fj,2)\n",
    "        X = X + d\n",
    "    return X\n"
   ]
  },
  {
   "cell_type": "code",
   "execution_count": 346,
   "metadata": {},
   "outputs": [],
   "source": [
    "Nexp=700\n",
    "N=50\n",
    "nBins = 30\n",
    "chiList = []\n",
    "\n",
    "for i in range(Nexp):\n",
    "    dat = Egenerator(N,T)\n",
    "    content,edges= np.histogram(dat, bins = nBins, density=False)\n",
    "    chiList.append(doChiBin(content, edges))"
   ]
  },
  {
   "cell_type": "code",
   "execution_count": 345,
   "metadata": {},
   "outputs": [
    {
     "data": {
      "text/plain": [
       "(array([695.,   1.,   0.,   1.,   0.,   0.,   0.,   0.,   0.,   2.,   0.,\n",
       "          0.,   0.,   0.,   0.,   0.,   0.,   0.,   0.,   0.,   0.,   0.,\n",
       "          0.,   0.,   0.,   0.,   0.,   0.,   0.,   1.]),\n",
       " array([8.85378066e+42, 8.30486199e+45, 1.66008702e+46, 2.48968784e+46,\n",
       "        3.31928866e+46, 4.14888948e+46, 4.97849030e+46, 5.80809112e+46,\n",
       "        6.63769194e+46, 7.46729276e+46, 8.29689358e+46, 9.12649440e+46,\n",
       "        9.95609522e+46, 1.07856960e+47, 1.16152969e+47, 1.24448977e+47,\n",
       "        1.32744985e+47, 1.41040993e+47, 1.49337001e+47, 1.57633010e+47,\n",
       "        1.65929018e+47, 1.74225026e+47, 1.82521034e+47, 1.90817043e+47,\n",
       "        1.99113051e+47, 2.07409059e+47, 2.15705067e+47, 2.24001075e+47,\n",
       "        2.32297084e+47, 2.40593092e+47, 2.48889100e+47]),\n",
       " <BarContainer object of 30 artists>)"
      ]
     },
     "execution_count": 345,
     "metadata": {},
     "output_type": "execute_result"
    },
    {
     "data": {
      "image/png": "[encoded data removed]",
      "text/plain": [
       "<Figure size 432x288 with 1 Axes>"
      ]
     },
     "metadata": {
      "needs_background": "light"
     },
     "output_type": "display_data"
    }
   ],
   "source": [
    "plt.hist(chiList, density=False, bins = 30)\n"
   ]
  },
  {
   "cell_type": "markdown",
   "metadata": {},
   "source": [
    "c) How does the χ2 distribution change with the number of bins?"
   ]
  },
  {
   "cell_type": "markdown",
   "metadata": {},
   "source": [
    "# Exercice 4"
   ]
  },
  {
   "cell_type": "markdown",
   "metadata": {},
   "source": [
    "a) Compute the log likelihood ln L(x1, x2, ..., xN | μ) at a given μ. Then, use the maximum\n",
    "likelihood method to estimate μ and its variance"
   ]
  },
  {
   "cell_type": "code",
   "execution_count": 18,
   "metadata": {},
   "outputs": [],
   "source": [
    "def LLH(testData,Ttest):\n",
    "    Loutput=0\n",
    "    for i in range(0,len(testData)):\n",
    "        Loutput+=math.log(f(testData[i],Ttest))\n",
    "    return -Loutput"
   ]
  },
  {
   "cell_type": "code",
   "execution_count": 19,
   "metadata": {},
   "outputs": [
    {
     "name": "stdout",
     "output_type": "stream",
     "text": [
      "-144450.84869940585\n"
     ]
    }
   ],
   "source": [
    "Nexp=1\n",
    "N=3000\n",
    "data = Egenerator(N,T)\n",
    "\n",
    "print (LLH(data,3))"
   ]
  },
  {
   "cell_type": "markdown",
   "metadata": {},
   "source": [
    "Do this for various mu in the interval (0,10)"
   ]
  },
  {
   "cell_type": "code",
   "execution_count": 20,
   "metadata": {},
   "outputs": [
    {
     "name": "stdout",
     "output_type": "stream",
     "text": [
      "3.141641641641642 0.0\n"
     ]
    }
   ],
   "source": [
    "Ttest=np.linspace(0.5, 15, 1000)\n",
    "listLikeliHood = np.zeros(len(Ttest))\n",
    "\n",
    "for i in range(len(Ttest)):\n",
    "    l = LLH(data,Ttest[i])\n",
    "    listLikeliHood[i] = l\n",
    "\n",
    "Lmin = min(listLikeliHood)\n",
    "indexLmin = list(listLikeliHood).index(Lmin)\n",
    "\n",
    "\n",
    "for i in range(len(Ttest)): #Normalize\n",
    "    listLikeliHood[i] -= Lmin\n",
    "\n",
    "print (Ttest[indexLmin],min(listLikeliHood))"
   ]
  },
  {
   "cell_type": "code",
   "execution_count": 21,
   "metadata": {},
   "outputs": [
    {
     "data": {
      "image/png": "[encoded data removed]",
      "text/plain": [
       "<Figure size 432x288 with 1 Axes>"
      ]
     },
     "metadata": {
      "needs_background": "light"
     },
     "output_type": "display_data"
    }
   ],
   "source": [
    "plt.plot(Ttest,listLikeliHood,'-',lw=3)\n",
    "plt.plot(Ttest,listLikeliHood,'.',ms=10,lw=3)\n",
    "\n",
    "plt.xlabel(r'$T$')\n",
    "plt.ylabel(r'$-ln\\ L+ln\\ L_{min}$')\n",
    "plt.title(r'$The\\ likelihood$')\n",
    "\n",
    "plt.tick_params(direction='in')\n",
    "plt.grid(True)"
   ]
  },
  {
   "cell_type": "markdown",
   "metadata": {},
   "source": [
    "Now, estimate the error"
   ]
  },
  {
   "cell_type": "code",
   "execution_count": 22,
   "metadata": {},
   "outputs": [
    {
     "name": "stdout",
     "output_type": "stream",
     "text": [
      "The error of the estimation= 0.20320320320320318\n"
     ]
    }
   ],
   "source": [
    "i1=0\n",
    "i2=0\n",
    "for i in range(0,len(Ttest)-1):\n",
    "    if listLikeliHood[i]>0.5 and listLikeliHood[i+1]<0.5:\n",
    "        i1=i\n",
    "    if listLikeliHood[i]<0.5 and listLikeliHood[i+1]>0.5:\n",
    "        i2=i\n",
    "\n",
    "        \n",
    "print ('The error of the estimation=',(Ttest[i2]-Ttest[i1])/2)"
   ]
  },
  {
   "cell_type": "markdown",
   "metadata": {},
   "source": [
    "b) Compute the goodness of fit at various μ and use the least squares method to estimate μ\n",
    "and its variance.\n",
    "\n",
    "Let's now define a list of different $ \\mu $  and for each one of them compute the least squares : \n",
    "\n",
    "$$\n",
    "X = \\sum \\left(\\dfrac{x-f(x)}{\\sigma}\\right)^2\n",
    "$$"
   ]
  },
  {
   "cell_type": "code",
   "execution_count": 23,
   "metadata": {},
   "outputs": [],
   "source": [
    "def calc_chi2(x, y, yerrs, param):\n",
    "    chi2 = 0\n",
    "    for i in range(len(x)):\n",
    "        fct_value = f(x[i],param)\n",
    "        chi2 += np.power((y[i] - fct_value) / yerrs[i], 2)\n",
    "    return chi2"
   ]
  },
  {
   "cell_type": "code",
   "execution_count": 24,
   "metadata": {},
   "outputs": [
    {
     "name": "stdout",
     "output_type": "stream",
     "text": [
      "index for min :  150  min value for T=  2.878964941569282\n"
     ]
    }
   ],
   "source": [
    "Nexp=1\n",
    "N=5000\n",
    "nBins = 30\n",
    "\n",
    "content,edges = np.histogram(data, bins = nBins, density=True)\n",
    "width = edges[1]-edges[0]\n",
    "xExp = edges[:-1] + width/2\n",
    "\n",
    "x=xExp\n",
    "y=content\n",
    "yerrs = np.sqrt(content)\n",
    "params = np.linspace(0.5,10,600)\n",
    "\n",
    "jmin = list(calc_chi2(x,y,yerrs,params)).index(min(calc_chi2(x,y,yerrs,params)))\n",
    "calc_chi2(x,y,yerrs,params)[jmin]\n",
    "print(\"index for min : \" , jmin , \" min value for T= \", params[jmin])\n"
   ]
  },
  {
   "cell_type": "markdown",
   "metadata": {},
   "source": [
    "c) The parameter μ can also be estimated by computing the sample mean 〈e〉 of Eq. (1) with\n",
    "the MC integral. Perform this estimation of μ and its corresponding variance."
   ]
  },
  {
   "cell_type": "code",
   "execution_count": 25,
   "metadata": {},
   "outputs": [],
   "source": [
    "sample = np.linspace(0.5,10,100)\n",
    "listMean = np.zeros(len(sample))\n",
    "\n",
    "E = np.zeros(len(sample))\n",
    "for k in range(len(sample)):\n",
    "    gi = np.zeros(len(data))\n",
    "    for j in range(len(data)):\n",
    "        gi[j] = f(data[j], sample[k])\n",
    "    E[k] = np.sum(gi)/N"
   ]
  },
  {
   "cell_type": "code",
   "execution_count": 26,
   "metadata": {},
   "outputs": [
    {
     "data": {
      "text/plain": [
       "<matplotlib.legend.Legend at 0x1ddd66c07f0>"
      ]
     },
     "execution_count": 26,
     "metadata": {},
     "output_type": "execute_result"
    },
    {
     "data": {
      "image/png": "[encoded data removed]",
      "text/plain": [
       "<Figure size 432x288 with 1 Axes>"
      ]
     },
     "metadata": {
      "needs_background": "light"
     },
     "output_type": "display_data"
    }
   ],
   "source": [
    "plt.plot(sample, E, label = \"E\")\n",
    "plt.legend()"
   ]
  },
  {
   "cell_type": "code",
   "execution_count": null,
   "metadata": {},
   "outputs": [],
   "source": []
  }
 ],
 "metadata": {
  "interpreter": {
   "hash": "210a652834372a5bae9568985f333064d895cc4711e118e4c6bab5a0d4270b59"
  },
  "kernelspec": {
   "display_name": "Python 3",
   "language": "python",
   "name": "python3"
  },
  "language_info": {
   "codemirror_mode": {
    "name": "ipython",
    "version": 3
   },
   "file_extension": ".py",
   "mimetype": "text/x-python",
   "name": "python",
   "nbconvert_exporter": "python",
   "pygments_lexer": "ipython3",
   "version": "3.8.8"
  }
 },
 "nbformat": 4,
 "nbformat_minor": 2
}
